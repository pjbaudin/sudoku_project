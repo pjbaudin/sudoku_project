{
 "cells": [
  {
   "cell_type": "code",
   "execution_count": null,
   "metadata": {},
   "outputs": [
    {
     "ename": "",
     "evalue": "",
     "output_type": "error",
     "traceback": [
      "\u001b[1;31mRunning cells with 'Python 3.10.5 64-bit (system)' requires ipykernel package.\n",
      "Run the following command to install 'ipykernel' into the Python environment. \n",
      "Command: 'c:/Users/pierr/Documents/git_repo/sudoku_project/sudoku_solver_3_10/Scripts/python.exe -m pip install ipykernel -U --user --force-reinstall'"
     ]
    }
   ],
   "source": [
    "import numpy as np"
   ]
  },
  {
   "cell_type": "code",
   "execution_count": null,
   "metadata": {},
   "outputs": [],
   "source": [
    "np.array([\n",
    "         [[4,1,3], [7,1,6], [6,1,5]],\n",
    "         [[1,1,9], [2,1,4], [5,1,6]],\n",
    "         [[9,1,2], [3,1,4], [8,1,3]]\n",
    "         ])"
   ]
  }
 ],
 "metadata": {
  "kernelspec": {
   "display_name": "Python 3.10.5 ('dev_sudoku_3_10': venv)",
   "language": "python",
   "name": "python3"
  },
  "language_info": {
   "name": "python",
   "version": "3.10.5"
  },
  "orig_nbformat": 4,
  "vscode": {
   "interpreter": {
    "hash": "190a8983fe6ff954153d5b42397f75d6c694073ef3860d60b2816f15a65fd633"
   }
  }
 },
 "nbformat": 4,
 "nbformat_minor": 2
}

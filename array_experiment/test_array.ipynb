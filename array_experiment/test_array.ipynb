{
 "cells": [
  {
   "cell_type": "code",
   "execution_count": 1,
   "metadata": {},
   "outputs": [],
   "source": [
    "import numpy as np"
   ]
  },
  {
   "cell_type": "code",
   "execution_count": 83,
   "metadata": {},
   "outputs": [
    {
     "name": "stdout",
     "output_type": "stream",
     "text": [
      "3\n"
     ]
    }
   ],
   "source": [
    "arr = np.array([\n",
    "         [[4,1,3], [7,1,6], [6,1,5]],\n",
    "         [[1,1,9], [2,1,4], [5,1,6]],\n",
    "         [[9,1,2], [3,1,4], [8,1,3]],\n",
    "         [[6,7,2], [2,4,1], [7,3,4]]\n",
    "         ])\n",
    "\n",
    "print(arr.ndim)"
   ]
  },
  {
   "cell_type": "code",
   "execution_count": 44,
   "metadata": {},
   "outputs": [
    {
     "data": {
      "text/plain": [
       "4"
      ]
     },
     "execution_count": 44,
     "metadata": {},
     "output_type": "execute_result"
    }
   ],
   "source": [
    "arr[0][0, 0]"
   ]
  },
  {
   "cell_type": "code",
   "execution_count": 96,
   "metadata": {},
   "outputs": [
    {
     "name": "stdout",
     "output_type": "stream",
     "text": [
      "[[0, 0], [0, 1], [0, 2], [1, 0], [1, 1], [1, 2], [2, 0], [2, 1], [2, 2]]\n",
      "[[0, 3], [0, 4], [0, 5], [1, 3], [1, 4], [1, 5], [2, 3], [2, 4], [2, 5]]\n",
      "[[0, 6], [0, 7], [0, 8], [1, 6], [1, 7], [1, 8], [2, 6], [2, 7], [2, 8]]\n",
      "[[3, 0], [3, 1], [3, 2], [4, 0], [4, 1], [4, 2], [5, 0], [5, 1], [5, 2]]\n",
      "[[0, 0], [0, 1], [0, 2], [1, 0], [1, 1], [1, 2], [2, 0], [2, 1], [2, 2], [0, 3], [0, 4], [0, 5], [1, 3], [1, 4], [1, 5], [2, 3], [2, 4], [2, 5], [0, 6], [0, 7], [0, 8], [1, 6], [1, 7], [1, 8], [2, 6], [2, 7], [2, 8], [3, 0], [3, 1], [3, 2], [4, 0], [4, 1], [4, 2], [5, 0], [5, 1], [5, 2]]\n"
     ]
    }
   ],
   "source": [
    "position_1 = [[i, j] for i in range(3) for j in range(3)]\n",
    "print(position_1)\n",
    "\n",
    "position_2 = [[i, j+3] for i in range(3) for j in range(3)]\n",
    "print(position_2)\n",
    "\n",
    "position_3 = [[i, j+6] for i in range(3) for j in range(3)]\n",
    "print(position_3)\n",
    "\n",
    "position_4 = [[i+3, j] for i in range(3) for j in range(3)]\n",
    "print(position_4)\n",
    "\n",
    "positions = position_1 + position_2 + position_3 + position_4\n",
    "print(positions)"
   ]
  },
  {
   "cell_type": "code",
   "execution_count": 62,
   "metadata": {},
   "outputs": [
    {
     "name": "stdout",
     "output_type": "stream",
     "text": [
      "4 <(0, 0, 0)> 1 <(0, 0, 1)> 3 <(0, 0, 2)> 7 <(0, 1, 0)> 1 <(0, 1, 1)> 6 <(0, 1, 2)> 6 <(0, 2, 0)> 1 <(0, 2, 1)> 5 <(0, 2, 2)> 1 <(1, 0, 0)> 1 <(1, 0, 1)> 9 <(1, 0, 2)> 2 <(1, 1, 0)> 1 <(1, 1, 1)> 4 <(1, 1, 2)> 5 <(1, 2, 0)> 1 <(1, 2, 1)> 6 <(1, 2, 2)> 9 <(2, 0, 0)> 1 <(2, 0, 1)> 2 <(2, 0, 2)> 3 <(2, 1, 0)> 1 <(2, 1, 1)> 4 <(2, 1, 2)> 8 <(2, 2, 0)> 1 <(2, 2, 1)> 3 <(2, 2, 2)> 6 <(3, 0, 0)> 7 <(3, 0, 1)> 2 <(3, 0, 2)> 2 <(3, 1, 0)> 4 <(3, 1, 1)> 1 <(3, 1, 2)> 7 <(3, 2, 0)> 3 <(3, 2, 1)> 4 <(3, 2, 2)> "
     ]
    }
   ],
   "source": [
    "it = np.nditer(arr, flags=['multi_index'])\n",
    "\n",
    "for x in it:\n",
    "    print(\"%d <%s>\" % (x, it.multi_index), end=' ')"
   ]
  },
  {
   "cell_type": "code",
   "execution_count": 76,
   "metadata": {},
   "outputs": [
    {
     "name": "stdout",
     "output_type": "stream",
     "text": [
      "position: [0, 0] has value 4\n",
      "position: [0, 1] has value 1\n",
      "position: [0, 2] has value 3\n",
      "position: [0, 3] has value 7\n",
      "position: [0, 4] has value 1\n",
      "position: [0, 5] has value 6\n",
      "position: [0, 6] has value 6\n",
      "position: [0, 7] has value 1\n",
      "position: [0, 8] has value 5\n",
      "position: [1, 0] has value 1\n",
      "position: [1, 1] has value 1\n",
      "position: [1, 2] has value 9\n",
      "position: [1, 3] has value 2\n",
      "position: [1, 4] has value 1\n",
      "position: [1, 5] has value 4\n",
      "position: [1, 6] has value 5\n",
      "position: [1, 7] has value 1\n",
      "position: [1, 8] has value 6\n",
      "position: [2, 0] has value 9\n",
      "position: [2, 1] has value 1\n",
      "position: [2, 2] has value 2\n",
      "position: [2, 3] has value 3\n",
      "position: [2, 4] has value 1\n",
      "position: [2, 5] has value 4\n",
      "position: [2, 6] has value 8\n",
      "position: [2, 7] has value 1\n",
      "position: [2, 8] has value 3\n",
      "position: [3, 0] has value 6\n",
      "position: [3, 1] has value 7\n",
      "position: [3, 2] has value 2\n",
      "position: [3, 3] has value 2\n",
      "position: [3, 4] has value 4\n",
      "position: [3, 5] has value 1\n",
      "position: [3, 6] has value 7\n",
      "position: [3, 7] has value 3\n",
      "position: [3, 8] has value 4\n"
     ]
    }
   ],
   "source": [
    "it = np.nditer(arr)\n",
    "\n",
    "for position, val in zip(positions, it):\n",
    "    print(f\"position: {position} has value {val}\")\n"
   ]
  },
  {
   "cell_type": "code",
   "execution_count": 87,
   "metadata": {},
   "outputs": [
    {
     "name": "stdout",
     "output_type": "stream",
     "text": [
      "dimension : 0\n",
      "[[4 1 3]\n",
      " [7 1 6]\n",
      " [6 1 5]]\n",
      "position: [0, 0] has value 4\n",
      "position: [0, 1] has value 1\n",
      "position: [0, 2] has value 3\n",
      "position: [0, 3] has value 7\n",
      "position: [0, 4] has value 1\n",
      "position: [0, 5] has value 6\n",
      "position: [0, 6] has value 6\n",
      "position: [0, 7] has value 1\n",
      "position: [0, 8] has value 5\n",
      "dimension : 1\n",
      "[[1 1 9]\n",
      " [2 1 4]\n",
      " [5 1 6]]\n",
      "position: [0, 0] has value 1\n",
      "position: [0, 1] has value 1\n",
      "position: [0, 2] has value 9\n",
      "position: [0, 3] has value 2\n",
      "position: [0, 4] has value 1\n",
      "position: [0, 5] has value 4\n",
      "position: [0, 6] has value 5\n",
      "position: [0, 7] has value 1\n",
      "position: [0, 8] has value 6\n",
      "dimension : 2\n",
      "[[9 1 2]\n",
      " [3 1 4]\n",
      " [8 1 3]]\n",
      "position: [0, 0] has value 9\n",
      "position: [0, 1] has value 1\n",
      "position: [0, 2] has value 2\n",
      "position: [0, 3] has value 3\n",
      "position: [0, 4] has value 1\n",
      "position: [0, 5] has value 4\n",
      "position: [0, 6] has value 8\n",
      "position: [0, 7] has value 1\n",
      "position: [0, 8] has value 3\n",
      "dimension : 3\n",
      "[[6 7 2]\n",
      " [2 4 1]\n",
      " [7 3 4]]\n",
      "position: [0, 0] has value 6\n",
      "position: [0, 1] has value 7\n",
      "position: [0, 2] has value 2\n",
      "position: [0, 3] has value 2\n",
      "position: [0, 4] has value 4\n",
      "position: [0, 5] has value 1\n",
      "position: [0, 6] has value 7\n",
      "position: [0, 7] has value 3\n",
      "position: [0, 8] has value 4\n"
     ]
    }
   ],
   "source": [
    "for dim in range(arr.ndim+1):\n",
    "    print(f\"dimension : {dim}\")\n",
    "    it = np.nditer(arr[dim,...])\n",
    "    print(arr[dim,...])\n",
    "    for position, val in zip(positions, it):\n",
    "        print(f\"position: {position} has value {val}\")"
   ]
  },
  {
   "cell_type": "code",
   "execution_count": 67,
   "metadata": {},
   "outputs": [
    {
     "name": "stdout",
     "output_type": "stream",
     "text": [
      "position: [0, 0] has value 4\n",
      "position: [0, 1] has value 1\n",
      "position: [0, 2] has value 3\n",
      "position: [0, 3] has value 7\n",
      "position: [0, 4] has value 1\n",
      "position: [0, 5] has value 6\n",
      "position: [0, 6] has value 6\n",
      "position: [0, 7] has value 1\n",
      "position: [0, 8] has value 5\n",
      "position: [1, 0] has value 1\n",
      "position: [1, 1] has value 1\n",
      "position: [1, 2] has value 9\n",
      "position: [1, 3] has value 2\n",
      "position: [1, 4] has value 1\n",
      "position: [1, 5] has value 4\n",
      "position: [1, 6] has value 5\n",
      "position: [1, 7] has value 1\n",
      "position: [1, 8] has value 6\n",
      "position: [2, 0] has value 9\n",
      "position: [2, 1] has value 1\n",
      "position: [2, 2] has value 2\n",
      "position: [2, 3] has value 3\n",
      "position: [2, 4] has value 1\n",
      "position: [2, 5] has value 4\n",
      "position: [2, 6] has value 8\n",
      "position: [2, 7] has value 1\n",
      "position: [2, 8] has value 3\n",
      "position: [3, 0] has value 6\n",
      "position: [3, 1] has value 7\n",
      "position: [3, 2] has value 2\n",
      "position: [3, 3] has value 2\n",
      "position: [3, 4] has value 4\n",
      "position: [3, 5] has value 1\n",
      "position: [3, 6] has value 7\n",
      "position: [3, 7] has value 3\n",
      "position: [3, 8] has value 4\n"
     ]
    }
   ],
   "source": [
    "it = np.nditer(arr, flags=['multi_index'])\n",
    "\n",
    "for position, val in zip(positions, it):\n",
    "    print(f\"position: {position} has value {val}\")\n",
    "\n"
   ]
  },
  {
   "cell_type": "code",
   "execution_count": 69,
   "metadata": {},
   "outputs": [
    {
     "data": {
      "text/plain": [
       "81"
      ]
     },
     "execution_count": 69,
     "metadata": {},
     "output_type": "execute_result"
    }
   ],
   "source": [
    "len(positions)"
   ]
  }
 ],
 "metadata": {
  "kernelspec": {
   "display_name": "Python 3.10.5 ('dev_sudoku_3_10': venv)",
   "language": "python",
   "name": "python3"
  },
  "language_info": {
   "codemirror_mode": {
    "name": "ipython",
    "version": 3
   },
   "file_extension": ".py",
   "mimetype": "text/x-python",
   "name": "python",
   "nbconvert_exporter": "python",
   "pygments_lexer": "ipython3",
   "version": "3.10.5"
  },
  "orig_nbformat": 4,
  "vscode": {
   "interpreter": {
    "hash": "190a8983fe6ff954153d5b42397f75d6c694073ef3860d60b2816f15a65fd633"
   }
  }
 },
 "nbformat": 4,
 "nbformat_minor": 2
}
